{
  "nbformat": 4,
  "nbformat_minor": 0,
  "metadata": {
    "colab": {
      "provenance": []
    },
    "kernelspec": {
      "name": "python3",
      "display_name": "Python 3"
    },
    "language_info": {
      "name": "python"
    }
  },
  "cells": [
    {
      "cell_type": "markdown",
      "source": [
        "Write a program that takes two strings from the user: first_name, last_name. Pass these variables to fullname function that should return the (full name).\n",
        "\n",
        "o For example:\n",
        "\n",
        "▪ First_name = “your first name”, last_name = “your last name”\n",
        "\n",
        "▪ Full_name = “your full name”"
      ],
      "metadata": {
        "id": "wL4AdXjAzGuO"
      }
    },
    {
      "cell_type": "code",
      "execution_count": 1,
      "metadata": {
        "colab": {
          "base_uri": "https://localhost:8080/"
        },
        "id": "cHBnrh4_zDBw",
        "outputId": "f469d453-4c0a-4d2f-eacd-5a375d5be78c"
      },
      "outputs": [
        {
          "output_type": "stream",
          "name": "stdout",
          "text": [
            "Enter your first name: MANSUR\n",
            "Enter your last name: SHAIK\n",
            "Your full name is: MANSUR SHAIK\n"
          ]
        }
      ],
      "source": [
        "def fullname(first_name, last_name):\n",
        "    return first_name + \" \" + last_name\n",
        "\n",
        "# Get user input\n",
        "first_name = input(\"Enter your first name: \")\n",
        "last_name = input(\"Enter your last name: \")\n",
        "\n",
        "# Call the fullname function\n",
        "full_name = fullname(first_name, last_name)\n",
        "\n",
        "# Print the result\n",
        "print(\"Your full name is:\", full_name)\n"
      ]
    },
    {
      "cell_type": "markdown",
      "source": [
        "Write function named “string_alternative” that returns every other char in the full_name string.\n",
        "\n",
        "Str = “Good evening”\n",
        "\n",
        "Output: Go vnn\n",
        "\n",
        "Note: You need to create a function named “string_alternative” for this program and call it from main function."
      ],
      "metadata": {
        "id": "3ULzFkr0zIPV"
      }
    },
    {
      "cell_type": "code",
      "source": [
        "def string_alternative(input_string):\n",
        "    return input_string[::2]\n",
        "\n",
        "def main():\n",
        "    # Get user input for full name\n",
        "    input_string = input(\"Enter the input string: \")\n",
        "\n",
        "    # Call the string_alternative function\n",
        "    result = string_alternative(input_string)\n",
        "\n",
        "    # Print the result\n",
        "    print(\"Every other character in output string:\", result)\n",
        "\n",
        "if __name__ == \"__main__\":\n",
        "    main()\n"
      ],
      "metadata": {
        "colab": {
          "base_uri": "https://localhost:8080/"
        },
        "id": "xknOKEdJz6eq",
        "outputId": "a8d99898-d149-430e-cf9a-19c05300b0b2"
      },
      "execution_count": 2,
      "outputs": [
        {
          "output_type": "stream",
          "name": "stdout",
          "text": [
            "Enter the input string: MANSUR SHAIK\n",
            "Every other character in output string: MNU HI\n"
          ]
        }
      ]
    },
    {
      "cell_type": "markdown",
      "source": [
        "Write a python program to find the wordcount in a file (input.txt) for each line and then print the output.\n",
        "\n",
        "o Finally store the output in output.txt file.\n",
        "\n",
        "Example:\n",
        "\n",
        "Input: a file includes two lines:\n",
        "\n",
        "Python Course\n",
        "\n",
        "Deep Learning Course\n",
        "\n",
        "Output:\n",
        "\n",
        "Python Course\n",
        "\n",
        "Deep Learning Course\n",
        "\n",
        "Word_Count:\n",
        "\n",
        "Python: 1\n",
        "\n",
        "Course: 2\n",
        "\n",
        "Deep: 1\n",
        "\n",
        "Learning: 1"
      ],
      "metadata": {
        "id": "owh986650IKh"
      }
    },
    {
      "cell_type": "code",
      "source": [
        "def count_word_occurrences(line, word_count):\n",
        "    words = line.split()\n",
        "    for word in words:\n",
        "        word_count[word] = word_count.get(word, 0) + 1\n",
        "\n",
        "def main():\n",
        "    input_file_name = \"input.txt\"\n",
        "    output_file_name = \"output.txt\"\n",
        "\n",
        "    try:\n",
        "        # Read input file\n",
        "        with open(input_file_name, 'r') as file:\n",
        "            lines = file.readlines()\n",
        "\n",
        "        # Count word occurrences\n",
        "        word_count = {}\n",
        "        for line in lines:\n",
        "            count_word_occurrences(line, word_count)\n",
        "\n",
        "        # Prepare summarized output\n",
        "        output_lines = []\n",
        "        for word, count in word_count.items():\n",
        "            output_lines.append(f\"{word}: {count}\")\n",
        "\n",
        "        # Print the output\n",
        "        for output_line in output_lines:\n",
        "            print(output_line)\n",
        "\n",
        "        # Write output to file\n",
        "        with open(output_file_name, 'w') as output_file:\n",
        "            output_file.write('\\n'.join(output_lines))\n",
        "\n",
        "        print(f\"\\nWord count results saved in {output_file_name}\")\n",
        "\n",
        "    except FileNotFoundError:\n",
        "        print(f\"Error: File '{input_file_name}' not found.\")\n",
        "\n",
        "if __name__ == \"__main__\":\n",
        "    main()\n"
      ],
      "metadata": {
        "colab": {
          "base_uri": "https://localhost:8080/"
        },
        "id": "5YQSNBqB0PfK",
        "outputId": "d2e9528c-1145-44de-ddb8-146bc602a950"
      },
      "execution_count": 5,
      "outputs": [
        {
          "output_type": "stream",
          "name": "stdout",
          "text": [
            "Python: 1\n",
            "Course: 2\n",
            "Deep: 1\n",
            "Learning: 1\n",
            "\n",
            "Word count results saved in output.txt\n"
          ]
        }
      ]
    },
    {
      "cell_type": "markdown",
      "source": [
        "Write a program, which reads heights (inches.) of customers into a list and convert these\n",
        "\n",
        "heights to centimeters in a separate list using:\n",
        "\n",
        "1) Nested Interactive loop.\n",
        "\n",
        "2) List comprehensions\n",
        "\n",
        "Example:\n",
        "\n",
        "L1: [150,155, 145, 148]\n",
        "\n",
        "Output: [68.03, 70.3, 65.77, 67.13]"
      ],
      "metadata": {
        "id": "oM3Wz4XY098_"
      }
    },
    {
      "cell_type": "code",
      "source": [
        "def inches_to_centimeters_nested(heights_inches):\n",
        "    heights_centimeters = []\n",
        "    for inch in heights_inches:\n",
        "        centimeter = inch * 2.54\n",
        "        heights_centimeters.append(round(centimeter, 2))\n",
        "    return heights_centimeters\n",
        "\n",
        "def inches_to_centimeters_list_comprehension(heights_inches):\n",
        "    return [round(inch * 2.54, 2) for inch in heights_inches]\n",
        "\n",
        "def main():\n",
        "    # Get input from the user\n",
        "    try:\n",
        "        num_customers = int(input(\"Enter the number of customers: \"))\n",
        "        heights_inches = []\n",
        "        for i in range(num_customers):\n",
        "            height = float(input(f\"Enter height (in inches) for customer {i + 1}: \"))\n",
        "            heights_inches.append(height)\n",
        "\n",
        "        # Convert using nested interactive loop\n",
        "        heights_centimeters_nested = inches_to_centimeters_nested(heights_inches)\n",
        "\n",
        "        # Convert using list comprehension\n",
        "        heights_centimeters_list_comp = inches_to_centimeters_list_comprehension(heights_inches)\n",
        "\n",
        "        # Print the results\n",
        "        print(\"\\nHeights (in inches):\", heights_inches)\n",
        "        print(\"Heights (in centimeters) using nested loop:\", heights_centimeters_nested)\n",
        "        print(\"Heights (in centimeters) using list comprehension:\", heights_centimeters_list_comp)\n",
        "\n",
        "    except ValueError:\n",
        "        print(\"Error: Please enter valid numerical values for heights.\")\n",
        "\n",
        "if __name__ == \"__main__\":\n",
        "    main()\n"
      ],
      "metadata": {
        "colab": {
          "base_uri": "https://localhost:8080/"
        },
        "id": "vt6P3Q4d0_4N",
        "outputId": "f8da1993-5093-46a0-ddff-5aab3ccffa33"
      },
      "execution_count": 6,
      "outputs": [
        {
          "output_type": "stream",
          "name": "stdout",
          "text": [
            "Enter the number of customers: 4\n",
            "Enter height (in inches) for customer 1: 150\n",
            "Enter height (in inches) for customer 2: 155\n",
            "Enter height (in inches) for customer 3: 145\n",
            "Enter height (in inches) for customer 4: 148\n",
            "\n",
            "Heights (in inches): [150.0, 155.0, 145.0, 148.0]\n",
            "Heights (in centimeters) using nested loop: [381.0, 393.7, 368.3, 375.92]\n",
            "Heights (in centimeters) using list comprehension: [381.0, 393.7, 368.3, 375.92]\n"
          ]
        }
      ]
    }
  ]
}